{
 "cells": [
  {
   "cell_type": "code",
   "execution_count": 1,
   "id": "02642341-f6cd-4449-89a0-fb12a17a70d4",
   "metadata": {},
   "outputs": [],
   "source": [
    "import glob\n",
    "import cv2\n",
    "\n",
    "target_dir = 'results/codeformer/vfhq/vfhq_interval5_aligned/Clip+_HebIzK_LP4+P2+C1+F16589-16715'\n",
    "gt_dir = 'data/vfhq/Interval5_512_gt_aligned/Clip+_HebIzK_LP4+P2+C1+F16589-16715'\n",
    "target_imgs = glob.glob(target_dir+'/*.png')\n",
    "# gt_imgs = glob.glob(gt_dir+'/*.png')\n",
    "frame_list = []\n",
    "for img_path in target_imgs:\n",
    "    img = cv2.imread(img_path)\n",
    "    frame_list.append(img)"
   ]
  },
  {
   "cell_type": "code",
   "execution_count": 2,
   "id": "c2e0b566-c1c9-4461-b625-5e2432f74189",
   "metadata": {},
   "outputs": [
    {
     "name": "stderr",
     "output_type": "stream",
     "text": [
      "/cpfs01/user/chenziyan/anaconda3/envs/fos/lib/python3.8/site-packages/tqdm-4.65.0-py3.8.egg/tqdm/auto.py:21: TqdmWarning: IProgress not found. Please update jupyter and ipywidgets. See https://ipywidgets.readthedocs.io/en/stable/user_install.html\n",
      "  from .autonotebook import tqdm as notebook_tqdm\n",
      "2023-10-16 12:54:27.074085: I tensorflow/core/util/port.cc:110] oneDNN custom operations are on. You may see slightly different numerical results due to floating-point round-off errors from different computation orders. To turn them off, set the environment variable `TF_ENABLE_ONEDNN_OPTS=0`.\n",
      "2023-10-16 12:54:27.116237: I tensorflow/core/platform/cpu_feature_guard.cc:182] This TensorFlow binary is optimized to use available CPU instructions in performance-critical operations.\n",
      "To enable the following instructions: AVX2 AVX512F AVX512_VNNI FMA, in other operations, rebuild TensorFlow with the appropriate compiler flags.\n",
      "2023-10-16 12:54:28.724183: W tensorflow/compiler/tf2tensorrt/utils/py_utils.cc:38] TF-TRT Warning: Could not find TensorRT\n",
      "/cpfs01/user/chenziyan/anaconda3/envs/fos/lib/python3.8/site-packages/facexlib-0.3.0-py3.8.egg/facexlib/tracking/data_association.py:14: NumbaDeprecationWarning: The 'nopython' keyword argument was not supplied to the 'numba.jit' decorator. The implicit default value for this argument is currently False, but it will be changed to True in Numba 0.59.0. See https://numba.readthedocs.io/en/stable/reference/deprecation.html#deprecation-of-object-mode-fall-back-behaviour-when-using-jit for details.\n",
      "  def iou(bb_test, bb_gt):\n"
     ]
    }
   ],
   "source": [
    "import cv2\n",
    "from bfrxlib.metrics.basic import cal_similarity\n",
    "import torch\n",
    "from bfrxlib.preprocess.models import SortTracker, Descriptor\n",
    "\n",
    "# arcface ir se 50\n",
    "device = torch.device('cuda') if torch.cuda.is_available() else torch.device('cpu')\n",
    "descriptor = Descriptor(device=device)\n",
    "\n",
    "feat_matrix = []\n",
    "for img in frame_list:\n",
    "    output = descriptor(img)\n",
    "    feat_matrix.append(output)\n",
    "feat_matrix_ori = torch.cat(feat_matrix, dim=0)\n",
    "first = feat_matrix.pop(0)\n",
    "feat_matrix.append(first)\n",
    "feat_matrix_shift = torch.cat(feat_matrix, dim=0)\n",
    "diff = cal_similarity(feat_matrix_ori, feat_matrix_shift, type='l2')\n",
    "diff = diff[:-1]"
   ]
  },
  {
   "cell_type": "code",
   "execution_count": 7,
   "id": "364d32b8-6bec-471c-8245-e27843a8ffa0",
   "metadata": {},
   "outputs": [
    {
     "name": "stdout",
     "output_type": "stream",
     "text": [
      "tensor(0.7283, device='cuda:0')\n"
     ]
    },
    {
     "data": {
      "text/plain": [
       "tensor([0.5486, 1.0170, 0.9643, 0.5935, 0.5872, 0.7832, 0.5511, 0.7404, 0.5124,\n",
       "        0.8913, 0.5700, 0.8332, 0.6565, 0.8532, 0.8064, 0.4538, 0.7442, 0.5598,\n",
       "        0.9749, 0.8291, 0.6741, 0.7906, 0.8040, 0.7395], device='cuda:0')"
      ]
     },
     "execution_count": 7,
     "metadata": {},
     "output_type": "execute_result"
    }
   ],
   "source": [
    "# ir_se50\n",
    "print(len(diff))\n",
    "print(sum(diff)/len(diff))\n",
    "diff"
   ]
  },
  {
   "cell_type": "code",
   "execution_count": 4,
   "id": "96df0f75-b0fa-40fa-9164-3856be026881",
   "metadata": {},
   "outputs": [
    {
     "name": "stdout",
     "output_type": "stream",
     "text": [
      "tensor([1.2510, 2.2681, 2.3570, 1.5796, 1.4038, 1.9723, 1.6017, 2.3213, 1.7525,\n",
      "        2.5054, 1.6029, 2.0774, 1.8430, 2.1983, 2.2895, 1.5138, 1.9188, 1.5630,\n",
      "        2.4222, 2.3286, 1.6989, 1.9513, 2.0432, 1.9002], device='cuda:0',\n",
      "       grad_fn=<SliceBackward0>)\n"
     ]
    },
    {
     "data": {
      "text/plain": [
       "array(1.9318259, dtype=float32)"
      ]
     },
     "execution_count": 4,
     "metadata": {},
     "output_type": "execute_result"
    }
   ],
   "source": [
    "from bfrxlib.metrics.cos_dist_metric import calculate_vidd\n",
    "%load_ext autoreload\n",
    "%autoreload 2\n",
    "\n",
    "# resnet18\n",
    "calculate_vidd(data=dict(img_restored=frame_list))"
   ]
  },
  {
   "cell_type": "code",
   "execution_count": 2,
   "id": "5c4ece0b-c8d7-4608-bbec-64770a3e4caf",
   "metadata": {},
   "outputs": [
    {
     "name": "stderr",
     "output_type": "stream",
     "text": [
      "/cpfs01/user/chenziyan/anaconda3/envs/fos/lib/python3.8/site-packages/tqdm-4.65.0-py3.8.egg/tqdm/auto.py:21: TqdmWarning: IProgress not found. Please update jupyter and ipywidgets. See https://ipywidgets.readthedocs.io/en/stable/user_install.html\n",
      "  from .autonotebook import tqdm as notebook_tqdm\n",
      "2023-10-17 05:21:45.307383: I tensorflow/core/util/port.cc:110] oneDNN custom operations are on. You may see slightly different numerical results due to floating-point round-off errors from different computation orders. To turn them off, set the environment variable `TF_ENABLE_ONEDNN_OPTS=0`.\n",
      "2023-10-17 05:21:45.444194: I tensorflow/core/platform/cpu_feature_guard.cc:182] This TensorFlow binary is optimized to use available CPU instructions in performance-critical operations.\n",
      "To enable the following instructions: AVX2 AVX512F AVX512_VNNI FMA, in other operations, rebuild TensorFlow with the appropriate compiler flags.\n",
      "2023-10-17 05:21:47.133288: W tensorflow/compiler/tf2tensorrt/utils/py_utils.cc:38] TF-TRT Warning: Could not find TensorRT\n"
     ]
    },
    {
     "name": "stdout",
     "output_type": "stream",
     "text": [
      "using arcface backbone arcface_ir_se50\n"
     ]
    },
    {
     "name": "stderr",
     "output_type": "stream",
     "text": [
      "/cpfs01/user/chenziyan/anaconda3/envs/fos/lib/python3.8/site-packages/facexlib-0.3.0-py3.8.egg/facexlib/tracking/data_association.py:14: NumbaDeprecationWarning: The 'nopython' keyword argument was not supplied to the 'numba.jit' decorator. The implicit default value for this argument is currently False, but it will be changed to True in Numba 0.59.0. See https://numba.readthedocs.io/en/stable/reference/deprecation.html#deprecation-of-object-mode-fall-back-behaviour-when-using-jit for details.\n",
      "  def iou(bb_test, bb_gt):\n"
     ]
    },
    {
     "name": "stdout",
     "output_type": "stream",
     "text": [
      "torch.Size([25, 512])\n",
      "tensor([0.5486, 1.0170, 0.9643, 0.5935, 0.5872, 0.7832, 0.5511, 0.7404, 0.5124,\n",
      "        0.8913, 0.5700, 0.8332, 0.6565, 0.8532, 0.8064, 0.4538, 0.7442, 0.5598,\n",
      "        0.9749, 0.8291, 0.6741, 0.7906, 0.8040, 0.7395], device='cuda:0')\n"
     ]
    },
    {
     "data": {
      "text/plain": [
       "array(0.72827095, dtype=float32)"
      ]
     },
     "execution_count": 2,
     "metadata": {},
     "output_type": "execute_result"
    }
   ],
   "source": [
    "from bfrxlib.metrics.cos_dist_metric import calculate_vidd\n",
    "\n",
    "# l2 distance\n",
    "calculate_vidd(data=dict(img_restored=frame_list), backbone='arcface_ir_se50')"
   ]
  },
  {
   "cell_type": "code",
   "execution_count": 3,
   "id": "bef84cfd-f3ec-4b72-ab0f-0ebb467efffa",
   "metadata": {},
   "outputs": [
    {
     "name": "stdout",
     "output_type": "stream",
     "text": [
      "using arcface backbone arcface_resnet18\n",
      "torch.Size([25, 512])\n",
      "tensor([1.3327, 2.2623, 2.2469, 1.4850, 1.4223, 1.7786, 1.5912, 2.2751, 1.5825,\n",
      "        2.2693, 1.5875, 1.9058, 1.9845, 1.9910, 1.9051, 1.3738, 1.9547, 1.5972,\n",
      "        2.2968, 2.1288, 1.7398, 1.9856, 2.0738, 1.6219], device='cuda:0')\n"
     ]
    },
    {
     "data": {
      "text/plain": [
       "array(1.8496721, dtype=float32)"
      ]
     },
     "execution_count": 3,
     "metadata": {},
     "output_type": "execute_result"
    }
   ],
   "source": [
    "from bfrxlib.metrics.cos_dist_metric import calculate_vidd\n",
    "\n",
    "# l2\n",
    "calculate_vidd(data=dict(img_restored=frame_list), backbone='arcface_resnet18')"
   ]
  },
  {
   "cell_type": "code",
   "execution_count": null,
   "id": "343dca11-8d16-457f-8c47-9b200f4b8ae9",
   "metadata": {},
   "outputs": [],
   "source": [
    "[1.2510, 2.2681, 2.3570, 1.5796, 1.4038, 1.9723, 1.6017, 2.3213, 1.7525,\n",
    "2.5054, 1.6029, 2.0774, 1.8430, 2.1983, 2.2895, 1.5138, 1.9188, 1.5630,\n",
    "2.4222, 2.3286, 1.6989, 1.9513, 2.0432, 1.9002]"
   ]
  },
  {
   "cell_type": "code",
   "execution_count": 2,
   "id": "6611ddba-5cb5-475d-ab08-5ba253e124b3",
   "metadata": {},
   "outputs": [
    {
     "name": "stderr",
     "output_type": "stream",
     "text": [
      "/cpfs01/user/chenziyan/anaconda3/envs/fos/lib/python3.8/site-packages/tqdm-4.65.0-py3.8.egg/tqdm/auto.py:21: TqdmWarning: IProgress not found. Please update jupyter and ipywidgets. See https://ipywidgets.readthedocs.io/en/stable/user_install.html\n",
      "  from .autonotebook import tqdm as notebook_tqdm\n",
      "2023-10-17 05:23:59.611917: I tensorflow/core/util/port.cc:110] oneDNN custom operations are on. You may see slightly different numerical results due to floating-point round-off errors from different computation orders. To turn them off, set the environment variable `TF_ENABLE_ONEDNN_OPTS=0`.\n",
      "2023-10-17 05:23:59.654089: I tensorflow/core/platform/cpu_feature_guard.cc:182] This TensorFlow binary is optimized to use available CPU instructions in performance-critical operations.\n",
      "To enable the following instructions: AVX2 AVX512F AVX512_VNNI FMA, in other operations, rebuild TensorFlow with the appropriate compiler flags.\n",
      "2023-10-17 05:24:01.188014: W tensorflow/compiler/tf2tensorrt/utils/py_utils.cc:38] TF-TRT Warning: Could not find TensorRT\n"
     ]
    },
    {
     "name": "stdout",
     "output_type": "stream",
     "text": [
      "using arcface backbone arcface_resnet18\n"
     ]
    },
    {
     "name": "stderr",
     "output_type": "stream",
     "text": [
      "/cpfs01/user/chenziyan/anaconda3/envs/fos/lib/python3.8/site-packages/facexlib-0.3.0-py3.8.egg/facexlib/tracking/data_association.py:14: NumbaDeprecationWarning: The 'nopython' keyword argument was not supplied to the 'numba.jit' decorator. The implicit default value for this argument is currently False, but it will be changed to True in Numba 0.59.0. See https://numba.readthedocs.io/en/stable/reference/deprecation.html#deprecation-of-object-mode-fall-back-behaviour-when-using-jit for details.\n",
      "  def iou(bb_test, bb_gt):\n"
     ]
    },
    {
     "name": "stdout",
     "output_type": "stream",
     "text": [
      "tensor([0.1448, 0.3961, 0.3688, 0.1720, 0.1614, 0.2430, 0.1619, 0.3571, 0.2161,\n",
      "        0.3978, 0.1839, 0.2466, 0.2849, 0.3038, 0.2560, 0.1268, 0.2640, 0.1888,\n",
      "        0.4410, 0.3968, 0.2270, 0.3036, 0.3412, 0.2155], device='cuda:0')\n"
     ]
    },
    {
     "data": {
      "text/plain": [
       "array(0.26662531, dtype=float32)"
      ]
     },
     "execution_count": 2,
     "metadata": {},
     "output_type": "execute_result"
    }
   ],
   "source": [
    "from bfrxlib.metrics.cos_dist_metric import calculate_vidd\n",
    "\n",
    "# cos\n",
    "calculate_vidd(data=dict(img_restored=frame_list), backbone='arcface_resnet18')"
   ]
  },
  {
   "cell_type": "code",
   "execution_count": null,
   "id": "816e4543-e941-4bd6-bda6-32f4fcab8424",
   "metadata": {},
   "outputs": [],
   "source": []
  }
 ],
 "metadata": {
  "kernelspec": {
   "display_name": "fos",
   "language": "python",
   "name": "fos"
  },
  "language_info": {
   "codemirror_mode": {
    "name": "ipython",
    "version": 3
   },
   "file_extension": ".py",
   "mimetype": "text/x-python",
   "name": "python",
   "nbconvert_exporter": "python",
   "pygments_lexer": "ipython3",
   "version": "3.8.17"
  }
 },
 "nbformat": 4,
 "nbformat_minor": 5
}
